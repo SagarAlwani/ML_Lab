{
 "cells": [
  {
   "cell_type": "markdown",
   "metadata": {},
   "source": [
    "# Lab2: To add missing data values in dataset"
   ]
  },
  {
   "cell_type": "code",
   "execution_count": 3,
   "metadata": {},
   "outputs": [
    {
     "name": "stdout",
     "output_type": "stream",
     "text": [
      "    Country   Age   Salary\n",
      "0    France  44.0  72000.0\n",
      "1     Spain  27.0  48000.0\n",
      "2   Germany  30.0  54000.0\n",
      "3     Spain  38.0  61000.0\n",
      "4   Germany  40.0      NaN\n",
      "5    France  35.0  58000.0\n",
      "6     Spain   NaN  52000.0\n",
      "7    France  48.0  79000.0\n",
      "8   Germany  50.0  83000.0\n",
      "9    France  37.0  67000.0\n",
      "10    India   NaN      NaN\n",
      "11    China  10.0   1000.0\n",
      "12      USA  38.0      NaN\n"
     ]
    }
   ],
   "source": [
    "#importing numpy and pandas and dataset\n",
    "import pandas as pd\n",
    "import numpy as np\n",
    "\n",
    "csv_path = 'C:/Users/student/Desktop/nota.csv'\n",
    "\n",
    "df = pd.read_csv(csv_path)\n",
    "print(df)"
   ]
  },
  {
   "cell_type": "code",
   "execution_count": 16,
   "metadata": {},
   "outputs": [],
   "source": [
    "#importing libraries to add missing values\n",
    "#SimpleImputer jo hai na wo Class hai and imputer us class ka ibject hai\n",
    "X=df.iloc[:,0:3].values\n",
    "\n",
    "from sklearn.impute import SimpleImputer\n",
    "# SimpleImputer is class, imputer is object of the class\n",
    "imputer=SimpleImputer(missing_values=np.nan, strategy='mean')"
   ]
  },
  {
   "cell_type": "code",
   "execution_count": 17,
   "metadata": {},
   "outputs": [
    {
     "name": "stdout",
     "output_type": "stream",
     "text": [
      "[['France' 44.0 72000.0]\n",
      " ['Spain' 27.0 48000.0]\n",
      " ['Germany' 30.0 54000.0]\n",
      " ['Spain' 38.0 61000.0]\n",
      " ['Germany' 40.0 57500.0]\n",
      " ['France' 35.0 58000.0]\n",
      " ['Spain' 36.09090909090909 52000.0]\n",
      " ['France' 48.0 79000.0]\n",
      " ['Germany' 50.0 83000.0]\n",
      " ['France' 37.0 67000.0]\n",
      " ['India' 36.09090909090909 57500.0]\n",
      " ['China' 10.0 1000.0]\n",
      " ['USA' 38.0 57500.0]]\n"
     ]
    }
   ],
   "source": [
    "#missing_values, strategy are arguments\n",
    "imputer.fit(X[:,1:3])\n",
    "X[:,1:3]=imputer.transform(X[:,1:3])\n",
    "print (X)"
   ]
  },
  {
   "cell_type": "code",
   "execution_count": null,
   "metadata": {},
   "outputs": [],
   "source": []
  },
  {
   "cell_type": "code",
   "execution_count": null,
   "metadata": {},
   "outputs": [],
   "source": []
  }
 ],
 "metadata": {
  "kernelspec": {
   "display_name": "Python 3",
   "language": "python",
   "name": "python3"
  },
  "language_info": {
   "codemirror_mode": {
    "name": "ipython",
    "version": 3
   },
   "file_extension": ".py",
   "mimetype": "text/x-python",
   "name": "python",
   "nbconvert_exporter": "python",
   "pygments_lexer": "ipython3",
   "version": "3.7.4"
  }
 },
 "nbformat": 4,
 "nbformat_minor": 2
}
