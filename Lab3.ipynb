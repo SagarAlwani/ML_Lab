#importing numpy and pandas and dataset
import pandas as pd
import numpy as np

csv_path = 'C:/Users/student/Desktop/DataNew.csv'

df = pd.read_csv(csv_path)
print(df)

#importing libraries to add missing values
#SimpleImputer jo hai na wo Class hai and imputer us class ka ibject hai
X=df.iloc[:,0:3].values
Y=df.iloc[:,3:4].values
from sklearn.impute import SimpleImputer
# SimpleImputer is class, imputer is object of the class
imputer=SimpleImputer(missing_values=np.nan, strategy='mean')

#missing_values, strategy are arguments
imputer.fit(X[:,1:3])
X[:,1:3]=imputer.transform(X[:,1:3])
print (X)

from sklearn.compose import ColumnTransformer
from sklearn.preprocessing import OneHotEncoder
ct=ColumnTransformer(transformers=[('encoder', OneHotEncoder(), [0])], remainder='passthrough')
X=np.array(ct.fit_transform(X))
print(X)


# encoding the dependent variable
from sklearn.preprocessing import LabelEncoder
le=LabelEncoder()
Y=le.fit_transform(Y)


#Splitting dataset into training set and test set

from sklearn.model_selection import train_test_split
X_train,X_test,Y_train,Y_test= train_test_split(X,Y,test_size=0.2,
                                                random_state=1)
print(X_train)
print(X_test)
print(Y_train)
print(Y_test)









